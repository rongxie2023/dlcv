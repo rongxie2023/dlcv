{
 "cells": [
  {
   "cell_type": "markdown",
   "metadata": {},
   "source": [
    "<a href=\"https://colab.research.google.com/github/rongxie2023/dlcv/blob/main/Chapter02//home/xr/dlcv/Chapter02/Chapter02/11-case5-linear_regression_pytorch.ipynb\" target=\"_parent\"><img src=\"https://colab.research.google.com/assets/colab-badge.svg\" alt=\"Open In Colab\"/></a>"
   ]
  },
  {
   "cell_type": "code",
   "execution_count": null,
   "metadata": {},
   "outputs": [],
   "source": [
    "import torch\n",
    "import torch.nn as nn\n",
    "from torch.utils.data import Dataset, DataLoader\n",
    "from torch.utils.tensorboard import SummaryWriter\n",
    "from tqdm import tqdm\n",
    "import numpy as np\n",
    "import matplotlib.pyplot as plt"
   ]
  },
  {
   "cell_type": "code",
   "execution_count": null,
   "metadata": {},
   "outputs": [],
   "source": [
    "# 设置随机种子以获得可重复的结果\n",
    "torch.manual_seed(0)\n",
    "\n",
    "# 准备数据集\n",
    "n_samples = 100\n",
    "w = torch.tensor([2, -3.4])\n",
    "b = 4.2\n",
    "# X = torch.rand((n_samples, len(w)))  #均匀分布         ***设为均匀分布后，注意设置训练轮次\n",
    "X = torch.normal(0, 1, (n_samples, len(w))) #正态分布\n",
    "y = X @ w +b +torch.normal(0, 0.01, [n_samples])\n",
    "y = y.reshape(-1,1)\n",
    "\n",
    "print(X.shape,y.shape)"
   ]
  },
  {
   "cell_type": "code",
   "execution_count": null,
   "metadata": {},
   "outputs": [],
   "source": [
    "plt.rcParams['figure.figsize'] = [3, 3] \n",
    "xx=X[:, (1)].detach().numpy()\n",
    "yy=y.detach().numpy()\n",
    "plt.scatter(xx, yy, 1)"
   ]
  },
  {
   "cell_type": "code",
   "execution_count": null,
   "metadata": {},
   "outputs": [],
   "source": [
    "#直接根据定义求w\n",
    "# 创建一个全为 1 的列，形状为 (3, 1)\n",
    "ones_column = torch.ones(X.shape[0], 1)\n",
    "XX=torch.cat((X, ones_column), dim=1).numpy()\n",
    "yy=y.numpy()\n",
    "ww=np.linalg.inv(XX.T@XX)@XX.T@yy\n",
    "print(ww)\n",
    "\n",
    "#纯torch实现\n",
    "ones_column = torch.ones(X.shape[0], 1)\n",
    "XX=torch.cat((X, ones_column), dim=1)\n",
    "ww=torch.inverse(XX.T@XX)@XX.T@y\n",
    "print(ww)\n"
   ]
  },
  {
   "cell_type": "code",
   "execution_count": null,
   "metadata": {},
   "outputs": [],
   "source": [
    "\n",
    "from torch.utils import data\n",
    "dataset = data.TensorDataset(*(X,y))  ###相当于上面SImpleDataset\n",
    "# 使用DataLoader加载数据\n",
    "data_loader = DataLoader(dataset, batch_size=10, shuffle=True)\n",
    "\n",
    "# 定义模型\n",
    "model = nn.Sequential(\n",
    "    nn.Linear(2, 1)  # 输入特征数为2，输出为1\n",
    ")\n",
    "\n",
    "# 定义损失函数和优化器\n",
    "criterion = nn.MSELoss()\n",
    "optimizer = torch.optim.SGD(model.parameters(), lr=0.001)\n",
    "\n",
    "# 训练模型\n",
    "# num_epochs = 2000\n",
    "# update_interval = 100\n",
    "num_epochs = 300\n",
    "update_interval = 10\n",
    "\n",
    "# 使用TensorBoard记录训练过程\n",
    "writer = SummaryWriter()\n",
    "\n",
    "for epoch in tqdm(range(num_epochs)):\n",
    "    # 初始化epoch损失为0\n",
    "    epoch_loss = 0.0\n",
    "        \n",
    "    # 每个epoch遍历整个数据集一次\n",
    "    for i, (inputs, labels) in enumerate(data_loader):\n",
    "        # 前向传播\n",
    "        outputs = model(inputs)\n",
    "\n",
    "        # 计算损失\n",
    "        loss = criterion(outputs, labels)\n",
    "\n",
    "        # 更新epoch损失\n",
    "        epoch_loss += loss.item()\n",
    "\n",
    "        # 反向传播和优化\n",
    "        optimizer.zero_grad()\n",
    "        loss.backward()\n",
    "        optimizer.step()\n",
    "        \n",
    "        # 使用TensorBoard记录损失\n",
    "        writer.add_scalar('Loss', loss.item(), epoch)\n",
    "\n",
    "    if (epoch+1) %  update_interval == 0:\n",
    "        print(f'Epoch [{epoch+1}/{num_epochs}], Average Loss: {epoch_loss / len(data_loader):.4f}')\n",
    "\n",
    "# 打印最终的权重和偏置\n",
    "print('Final weights and bias: ', list(model.parameters()))"
   ]
  },
  {
   "cell_type": "markdown",
   "metadata": {},
   "source": [
    "在命令行执行以下命令： \n",
    "```\n",
    "tensorboard --logdir runs\n",
    "```\n",
    "然后在Web浏览器中打开显示的URL地址，通常为 http://localhost:6006/ ，在那里你可以看到训练过程中损失的变化。"
   ]
  },
  {
   "cell_type": "markdown",
   "metadata": {},
   "source": [
    "### 实验结果"
   ]
  },
  {
   "cell_type": "code",
   "execution_count": null,
   "metadata": {},
   "outputs": [],
   "source": [
    "print('real weights',w,b)\n",
    "print('Final weights and bias: ', list(model.parameters()))\n",
    "model.eval()  #查看文档，思考eval()的作用\n",
    "\n",
    "test_x=torch.zeros((10, len(w))).uniform_(-2,2)\n",
    "with torch.no_grad():\n",
    "    test_y=model(test_x)   ###获取网络的输出\n",
    "\n",
    "real_y=test_x @ w +b  ###计算真实值\n",
    "print(test_y)\n",
    "print(real_y)\n",
    "\n",
    "\n"
   ]
  },
  {
   "cell_type": "code",
   "execution_count": null,
   "metadata": {},
   "outputs": [],
   "source": []
  }
 ],
 "metadata": {
  "kernelspec": {
   "display_name": "d2l",
   "language": "python",
   "name": "python3"
  },
  "language_info": {
   "codemirror_mode": {
    "name": "ipython",
    "version": 3
   },
   "file_extension": ".py",
   "mimetype": "text/x-python",
   "name": "python",
   "nbconvert_exporter": "python",
   "pygments_lexer": "ipython3",
   "version": "3.10.16"
  }
 },
 "nbformat": 4,
 "nbformat_minor": 2
}
