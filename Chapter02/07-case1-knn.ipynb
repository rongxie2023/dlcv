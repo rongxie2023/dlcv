{
 "cells": [
  {
   "cell_type": "markdown",
   "metadata": {},
   "source": [
    "<a href=\"https://colab.research.google.com/github/rongxie2023/dlcv/blob/main/Chapter02/Chapter02/07-case1-knn.ipynb\" target=\"_parent\"><img src=\"https://colab.research.google.com/assets/colab-badge.svg\" alt=\"Open In Colab\"/></a>"
   ]
  },
  {
   "cell_type": "code",
   "execution_count": null,
   "metadata": {},
   "outputs": [],
   "source": [
    "import torch"
   ]
  },
  {
   "cell_type": "code",
   "execution_count": 51,
   "metadata": {},
   "outputs": [
    {
     "name": "stdout",
     "output_type": "stream",
     "text": [
      "tensor([[0.0000, 0.0000],\n",
      "        [1.0000, 1.0000],\n",
      "        [1.1000, 1.0000],\n",
      "        [0.1000, 0.0000],\n",
      "        [0.0000, 0.0000]])\n",
      "tensor([2, 1, 1, 2, 2])\n"
     ]
    }
   ],
   "source": [
    "X=torch.tensor([[0,0],[1,1],[1.1,1],[0.1,0],[0,0]])\n",
    "y=torch.tensor([2,1,1,2,2])\n",
    "t=torch.tensor([0.1,0.2])\n",
    "print(X)\n",
    "print(y)"
   ]
  },
  {
   "cell_type": "code",
   "execution_count": 52,
   "metadata": {},
   "outputs": [
    {
     "name": "stdout",
     "output_type": "stream",
     "text": [
      "tensor([[0.0100, 0.0400],\n",
      "        [0.8100, 0.6400],\n",
      "        [1.0000, 0.6400],\n",
      "        [0.0000, 0.0400],\n",
      "        [0.0100, 0.0400]])\n",
      "tensor([0.0500, 1.4500, 1.6400, 0.0400, 0.0500])\n"
     ]
    }
   ],
   "source": [
    "#计算距离\n",
    "dist=(X-t)**2\n",
    "print(dist)\n",
    "d=dist.sum(dim=1)\n",
    "print(d)"
   ]
  },
  {
   "cell_type": "code",
   "execution_count": 54,
   "metadata": {},
   "outputs": [
    {
     "name": "stdout",
     "output_type": "stream",
     "text": [
      "距离= tensor([0.0500, 1.4500, 1.6400, 0.0400, 0.0500])\n",
      "由小到大排列的下标： tensor([3, 0, 4, 1, 2])\n",
      "对应的类别 tensor([2, 2, 2, 1, 1])\n",
      "前三名票数统计： tensor([0, 0, 3])\n",
      "票数最大值 tensor(3)\n",
      "测试点对应的类别： 2\n"
     ]
    }
   ],
   "source": [
    "#排序并统计票数\n",
    "idx=d.argsort(descending=False)\n",
    "print(\"距离=\",d)\n",
    "print(\"由小到大排列的下标：\",idx)\n",
    "\n",
    "#取出排好序的类别\n",
    "yy=y[idx]\n",
    "print(\"对应的类别\",yy)\n",
    "\n",
    "#统计前K个的票数\n",
    "count=yy[:3].bincount()\n",
    "print(\"前三名票数统计：\",count)\n",
    "\n",
    "#取票数最多的类别\n",
    "print(\"票数最大值\",count.max())\n",
    "print(\"测试点对应的类别：\",count.argmax().item())"
   ]
  },
  {
   "cell_type": "code",
   "execution_count": null,
   "metadata": {},
   "outputs": [],
   "source": []
  },
  {
   "cell_type": "code",
   "execution_count": null,
   "metadata": {},
   "outputs": [],
   "source": []
  },
  {
   "cell_type": "code",
   "execution_count": null,
   "metadata": {},
   "outputs": [],
   "source": []
  }
 ],
 "metadata": {
  "kernelspec": {
   "display_name": "real3dportrait",
   "language": "python",
   "name": "python3"
  },
  "language_info": {
   "codemirror_mode": {
    "name": "ipython",
    "version": 3
   },
   "file_extension": ".py",
   "mimetype": "text/x-python",
   "name": "python",
   "nbconvert_exporter": "python",
   "pygments_lexer": "ipython3",
   "version": "3.9.19"
  }
 },
 "nbformat": 4,
 "nbformat_minor": 2
}
